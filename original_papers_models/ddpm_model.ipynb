{
 "cells": [
  {
   "cell_type": "markdown",
   "metadata": {},
   "source": [
    "Here I will start to rebuild the DDPM paper from scratch, the whole procedure of DDPM procedure can be thought as a process of demolishing a big building into bricks and rebuild the building by using those bricks, we first add noise into the model, then the model will learn how to rebuild the image back into the original one, the DDPM is actually not a typical \"diffusion model\" but a VAE model."
   ]
  },
  {
   "cell_type": "code",
   "execution_count": null,
   "metadata": {},
   "outputs": [],
   "source": [
    "import torch \n",
    "import torch.nn as nn\n",
    "import torch.nn.functional as F\n",
    "import torch.optim as optim\n",
    "import math"
   ]
  },
  {
   "cell_type": "code",
   "execution_count": null,
   "metadata": {},
   "outputs": [],
   "source": [
    "class SinusodialPostionalEncoding(nn.Module):\n",
    "    def __init__(self, dim, theta = 10000):\n",
    "        super(SinusodialPostionalEncoding, self).__init__()\n",
    "        self.dim = dim\n",
    "        self.theta = theta\n",
    "    \n",
    "    def positional_encoding(self, x, position):\n",
    "        \"\"\"\n",
    "        An different implementation from original paper \n",
    "        'Attention is all you need', this is for computation efficiency\n",
    "        \"\"\"\n",
    "        device = x.device\n",
    "        position = x[:, None]  # Adding an extra dimension for broadcasting\n",
    "        div_term = torch.exp(torch.arange(0, self.dim, 2, device=device) * -(math.log(self.theta) / self.dim))\n",
    "\n",
    "        # Apply sinusoidal functions alternately across dimensions\n",
    "        pe = torch.zeros(len(x), self.dim, device=device)\n",
    "        pe[:, 0::2] = torch.sin(position * div_term)\n",
    "        pe[:, 1::2] = torch.cos(position * div_term)\n",
    "\n",
    "        return pe\n"
   ]
  }
 ],
 "metadata": {
  "kernelspec": {
   "display_name": "mlop",
   "language": "python",
   "name": "python3"
  },
  "language_info": {
   "name": "python",
   "version": "3.9.0"
  }
 },
 "nbformat": 4,
 "nbformat_minor": 2
}
