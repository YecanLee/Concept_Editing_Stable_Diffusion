{
 "cells": [
  {
   "cell_type": "code",
   "execution_count": 1,
   "metadata": {},
   "outputs": [],
   "source": [
    "import torch\n",
    "import torch.nn as nn\n",
    "\n",
    "import math\n",
    "import matplotlib.pyplot as plt\n",
    "import torch.optim as optim\n",
    "from torch.utils.data import DataLoader"
   ]
  },
  {
   "cell_type": "code",
   "execution_count": 2,
   "metadata": {},
   "outputs": [
    {
     "data": {
      "text/plain": [
       "<torch._C.Generator at 0x20da9830b70>"
      ]
     },
     "execution_count": 2,
     "metadata": {},
     "output_type": "execute_result"
    }
   ],
   "source": [
    "# define the seed\n",
    "torch.manual_seed(24)\n"
   ]
  },
  {
   "cell_type": "code",
   "execution_count": 3,
   "metadata": {},
   "outputs": [
    {
     "name": "stdout",
     "output_type": "stream",
     "text": [
      "torch.Size([1000, 2])\n"
     ]
    }
   ],
   "source": [
    "# Initialize the training data set, since we are going to use 2D data, we will initialize a 2D tensor\n",
    "\n",
    "training_size = 1000\n",
    "training_data = torch.zeros(training_size, 2)\n",
    "print(training_data.shape)"
   ]
  },
  {
   "cell_type": "code",
   "execution_count": 4,
   "metadata": {},
   "outputs": [],
   "source": [
    "training_data[:, 0] = 2* math.pi * torch.rand(training_size)\n",
    "training_data[:, 1] = torch.sin(training_data[:, 0])"
   ]
  },
  {
   "cell_type": "code",
   "execution_count": 5,
   "metadata": {},
   "outputs": [],
   "source": [
    "train_labels = torch.zeros(training_size)\n",
    "train_set = [(training_data[i], train_labels[i]) for i in range(training_size)]"
   ]
  },
  {
   "cell_type": "code",
   "execution_count": 6,
   "metadata": {},
   "outputs": [
    {
     "data": {
      "text/plain": [
       "[<matplotlib.lines.Line2D at 0x20dae955390>]"
      ]
     },
     "execution_count": 6,
     "metadata": {},
     "output_type": "execute_result"
    },
    {
     "data": {
      "image/png": "[encoded data removed]",
      "text/plain": [
       "<Figure size 640x480 with 1 Axes>"
      ]
     },
     "metadata": {},
     "output_type": "display_data"
    }
   ],
   "source": [
    "# visualize the training data we have right now\n",
    "\n",
    "plt.plot(training_data[:, 0], training_data[:, 1], '.')"
   ]
  },
  {
   "cell_type": "code",
   "execution_count": 7,
   "metadata": {},
   "outputs": [],
   "source": [
    "batch_size = 32\n",
    "\n",
    "train_loader = DataLoader(train_set, batch_size=batch_size, shuffle=True, drop_last=True)"
   ]
  },
  {
   "cell_type": "code",
   "execution_count": 8,
   "metadata": {},
   "outputs": [],
   "source": [
    "# define the discriminator here\n",
    "class Descriminator(nn.Module):\n",
    "    def __init__(self):\n",
    "        super(Descriminator, self).__init__()\n",
    "        self.mlp1 = nn.Linear(2, 256)\n",
    "        self.acti1 = nn.ReLU()\n",
    "        self.dropout1 = nn.Dropout(0.2)\n",
    "        self.mlp2 = nn.Linear(256, 128)\n",
    "        self.acti2 = nn.ReLU()\n",
    "        self.dropout2 = nn.Dropout(0.2)\n",
    "        self.mlp3 = nn.Linear(128, 64)\n",
    "        self.acti3 = nn.ReLU()\n",
    "        self.dropout3 = nn.Dropout(0.2)\n",
    "        self.mlp4 = nn.Linear(64, 1)\n",
    "        self.acti4 = nn.Sigmoid()\n",
    "\n",
    "    def forward(self, x):\n",
    "        x = self.mlp1(x)\n",
    "        x = self.dropout1(self.acti1(x))\n",
    "        x = self.mlp2(x)\n",
    "        x = self.dropout2(self.acti2(x))\n",
    "        x = self.mlp3(x)\n",
    "        x = self.dropout3(self.acti3(x))\n",
    "        x = self.mlp4(x)\n",
    "        x = self.acti4(x)\n",
    "        return x   "
   ]
  },
  {
   "cell_type": "code",
   "execution_count": 9,
   "metadata": {},
   "outputs": [],
   "source": [
    "# define the generator here\n",
    "class Generator(nn.Module):\n",
    "    def __init__(self):\n",
    "        super (Generator, self).__init__()\n",
    "        self.mlp1 = nn.Linear(2, 16)\n",
    "        self.acti1 = nn.ReLU()\n",
    "        self.mlp2 = nn.Linear(16, 32)\n",
    "        self.acti2 = nn.ReLU()\n",
    "        self.mlp3 = nn.Linear(32, 64)\n",
    "        self.acti3 = nn.ReLU()\n",
    "        self.mlp4 = nn.Linear(64, 32)\n",
    "        self.acti4 = nn.ReLU()\n",
    "        self.mlp5 = nn.Linear(32, 2)\n",
    "    \n",
    "    def forward(self, x):\n",
    "        x = self.mlp1(x)\n",
    "        x = self.acti1(x)\n",
    "        x = self.mlp2(x)\n",
    "        x = self.acti2(x)\n",
    "        x = self.mlp3(x)\n",
    "        x = self.acti3(x)\n",
    "        x = self.mlp4(x)\n",
    "        x = self.acti4(x)\n",
    "        x = self.mlp5(x)\n",
    "        return x\n"
   ]
  },
  {
   "cell_type": "code",
   "execution_count": 10,
   "metadata": {},
   "outputs": [],
   "source": [
    "lr = 0.001\n",
    "num_epochs = 500\n",
    "loss = nn.BCELoss()\n",
    "device = torch.device('cuda' if torch.cuda.is_available() else 'cpu')"
   ]
  },
  {
   "cell_type": "code",
   "execution_count": 11,
   "metadata": {},
   "outputs": [
    {
     "data": {
      "text/plain": [
       "Descriminator(\n",
       "  (mlp1): Linear(in_features=2, out_features=256, bias=True)\n",
       "  (acti1): ReLU()\n",
       "  (dropout1): Dropout(p=0.2, inplace=False)\n",
       "  (mlp2): Linear(in_features=256, out_features=128, bias=True)\n",
       "  (acti2): ReLU()\n",
       "  (dropout2): Dropout(p=0.2, inplace=False)\n",
       "  (mlp3): Linear(in_features=128, out_features=64, bias=True)\n",
       "  (acti3): ReLU()\n",
       "  (dropout3): Dropout(p=0.2, inplace=False)\n",
       "  (mlp4): Linear(in_features=64, out_features=1, bias=True)\n",
       "  (acti4): Sigmoid()\n",
       ")"
      ]
     },
     "execution_count": 11,
     "metadata": {},
     "output_type": "execute_result"
    }
   ],
   "source": [
    "# Initialize both part of the model\n",
    "discrinator = Descriminator()\n",
    "generator = Generator()\n",
    "generator.to(device)\n",
    "discrinator.to(device)    \n"
   ]
  },
  {
   "cell_type": "code",
   "execution_count": 12,
   "metadata": {},
   "outputs": [
    {
     "name": "stderr",
     "output_type": "stream",
     "text": [
      "c:\\Users\\ra78lof\\AppData\\Local\\anaconda3\\envs\\ucd\\Lib\\site-packages\\tqdm\\auto.py:21: TqdmWarning: IProgress not found. Please update jupyter and ipywidgets. See https://ipywidgets.readthedocs.io/en/stable/user_install.html\n",
      "  from .autonotebook import tqdm as notebook_tqdm\n"
     ]
    }
   ],
   "source": [
    "# there will be two group of parameters, thus we need to define two different optimizers\n",
    "\n",
    "optimizer_discriminator = optim.Adam(discrinator.parameters(), lr = lr)\n",
    "optimizer_generator = optim.Adam(generator.parameters(), lr = lr)"
   ]
  },
  {
   "cell_type": "code",
   "execution_count": 13,
   "metadata": {},
   "outputs": [
    {
     "data": {
      "image/png": "[encoded data removed]",
      "text/plain": [
       "<Figure size 640x480 with 1 Axes>"
      ]
     },
     "metadata": {},
     "output_type": "display_data"
    }
   ],
   "source": [
    "discrinator.train()\n",
    "generator.train()\n",
    "for i in range(num_epochs):\n",
    "    for j, (real_samples, _) in enumerate(train_loader):\n",
    "        real_samples = real_samples.to(device)\n",
    "        real_labels = torch.ones(batch_size, 1)\n",
    "        real_labels = real_labels.to(device)\n",
    "        latent_z_sample = torch.randn(batch_size, 2) # this would be the z in the original paper, generate one batch of latent z\n",
    "        latent_z_sample = latent_z_sample.to(device)    \n",
    "        fake_labels = torch.zeros(batch_size, 1)\n",
    "        fake_labels = fake_labels.to(device)\n",
    "        generated_samples = generator(latent_z_sample)  \n",
    "        all_samples = torch.cat((real_samples, generated_samples))\n",
    "        all_labels = torch.cat((real_labels, fake_labels)) # half of the labels are real which has value 1, the rest would be fake with value 0\n",
    "        all_samples = all_samples.to(device)\n",
    "        all_labels = all_labels.to(device)\n",
    "\n",
    "        # we first train the D in the paper, aka the discriminator\n",
    "        discrinator.zero_grad()\n",
    "        output_dis = discrinator(all_samples)\n",
    "        loss_dis = loss(output_dis, all_labels)\n",
    "        loss_dis.backward()\n",
    "        optimizer_discriminator.step()\n",
    "\n",
    "        # then we train the G in the paper, aka the generator   \n",
    "        generator.zero_grad()\n",
    "        latent_z_sample = torch.randn(batch_size, 2)\n",
    "        latent_z_sample = latent_z_sample.to(device)\n",
    "        generated_samples1 = generator(latent_z_sample)\n",
    "        generated_samples1 = generated_samples1.to(device)\n",
    "        output_gen = discrinator(generated_samples1)\n",
    "        loss_gen = loss(output_gen, real_labels)\n",
    "        loss_gen.backward()\n",
    "        optimizer_generator.step()\n",
    "\n",
    "# visualize the generated samples every 20 epochs\n",
    "generated_samples1 = generated_samples1.detach().cpu()\n",
    "plt.plot(generated_samples1[:, 0].detach().cpu().numpy(), generated_samples1[:, 1].detach().cpu().numpy(), '.')\n",
    "plt.show()"
   ]
  },
  {
   "cell_type": "code",
   "execution_count": null,
   "metadata": {},
   "outputs": [],
   "source": []
  }
 ],
 "metadata": {
  "kernelspec": {
   "display_name": "ucd",
   "language": "python",
   "name": "python3"
  },
  "language_info": {
   "codemirror_mode": {
    "name": "ipython",
    "version": 3
   },
   "file_extension": ".py",
   "mimetype": "text/x-python",
   "name": "python",
   "nbconvert_exporter": "python",
   "pygments_lexer": "ipython3",
   "version": "3.11.0"
  }
 },
 "nbformat": 4,
 "nbformat_minor": 2
}
