{
 "cells": [
  {
   "cell_type": "code",
   "execution_count": 1,
   "metadata": {},
   "outputs": [
    {
     "name": "stderr",
     "output_type": "stream",
     "text": [
      "c:\\Users\\ra78lof\\AppData\\Local\\anaconda3\\envs\\ucd\\Lib\\site-packages\\tqdm\\auto.py:21: TqdmWarning: IProgress not found. Please update jupyter and ipywidgets. See https://ipywidgets.readthedocs.io/en/stable/user_install.html\n",
      "  from .autonotebook import tqdm as notebook_tqdm\n"
     ]
    }
   ],
   "source": [
    "from transformers import AutoTokenizer, CLIPModel\n",
    "\n",
    "model = CLIPModel.from_pretrained(\"openai/clip-vit-base-patch32\")\n",
    "tokenizer = AutoTokenizer.from_pretrained(\"openai/clip-vit-base-patch32\")  \n",
    "\n",
    "inputs = tokenizer([\"a photo of a cat\", \"a photo of a dog\", \"a photo of a doctor\"], padding=True, return_tensors=\"pt\")\n",
    "text_features = model.get_text_features(**inputs)"
   ]
  },
  {
   "cell_type": "code",
   "execution_count": 2,
   "metadata": {},
   "outputs": [
    {
     "name": "stdout",
     "output_type": "stream",
     "text": [
      "torch.Size([3, 512])\n"
     ]
    }
   ],
   "source": [
    "# debug\n",
    "\n",
    "print(text_features.shape)"
   ]
  },
  {
   "cell_type": "code",
   "execution_count": 3,
   "metadata": {},
   "outputs": [],
   "source": [
    "import torch"
   ]
  },
  {
   "cell_type": "code",
   "execution_count": 4,
   "metadata": {},
   "outputs": [
    {
     "name": "stdout",
     "output_type": "stream",
     "text": [
      "torch.Size([3, 3])\n",
      "tensor([[109.7550, 104.3795, 100.9567],\n",
      "        [104.3795, 114.5316, 105.4316],\n",
      "        [100.9567, 105.4316, 122.9855]], grad_fn=<MmBackward0>)\n"
     ]
    }
   ],
   "source": [
    "Numerator = text_features@text_features.transpose(1, 0)\n",
    "print(Numerator.shape)  \n",
    "print(Numerator)\n"
   ]
  },
  {
   "cell_type": "code",
   "execution_count": 5,
   "metadata": {},
   "outputs": [],
   "source": [
    "#print(text_features.norm(dim=1).shape) \n",
    "#print(text_features.norm(dim=1).unsqueeze(0).shape)\n",
    "#print(text_features.norm(dim=1).unsqueeze(1).shape)    "
   ]
  },
  {
   "cell_type": "code",
   "execution_count": 6,
   "metadata": {},
   "outputs": [
    {
     "name": "stdout",
     "output_type": "stream",
     "text": [
      "torch.Size([3, 3])\n",
      "tensor([[109.7550, 112.1179, 116.1821],\n",
      "        [112.1179, 114.5316, 118.6833],\n",
      "        [116.1821, 118.6833, 122.9855]], grad_fn=<MmBackward0>)\n"
     ]
    }
   ],
   "source": [
    "Denomitor = text_features.norm(dim=1).unsqueeze(1)@ text_features.norm(dim=1).unsqueeze(0)\n",
    "print(Denomitor.shape)  \n",
    "print(Denomitor)"
   ]
  },
  {
   "cell_type": "code",
   "execution_count": 8,
   "metadata": {},
   "outputs": [
    {
     "name": "stdout",
     "output_type": "stream",
     "text": [
      "tensor([[1.0000, 0.9310, 0.8690],\n",
      "        [0.9310, 1.0000, 0.8883],\n",
      "        [0.8690, 0.8883, 1.0000]], grad_fn=<DivBackward0>)\n"
     ]
    }
   ],
   "source": [
    "clip_concept_similarity = Numerator/Denomitor \n",
    "\n",
    "print(clip_concept_similarity)"
   ]
  },
  {
   "cell_type": "code",
   "execution_count": 9,
   "metadata": {},
   "outputs": [
    {
     "name": "stdout",
     "output_type": "stream",
     "text": [
      "torch.Size([1, 512])\n"
     ]
    }
   ],
   "source": [
    "compare_input = tokenizer(['a photo of a tiger'], padding=True, return_tensors=\"pt\")\n",
    "compare_text_features = model.get_text_features(**compare_input)\n",
    "print(compare_text_features.shape)"
   ]
  },
  {
   "cell_type": "code",
   "execution_count": 11,
   "metadata": {},
   "outputs": [
    {
     "name": "stdout",
     "output_type": "stream",
     "text": [
      "torch.Size([3])\n",
      "tensor([0.8940, 0.8714, 0.8360], grad_fn=<SumBackward1>)\n"
     ]
    }
   ],
   "source": [
    "# compare the similarity between the compare input and the text features\n",
    "cosine_similarity = torch.cosine_similarity(text_features, compare_text_features, axis=1)\n",
    "print(cosine_similarity.shape)\n",
    "print(cosine_similarity)"
   ]
  },
  {
   "cell_type": "code",
   "execution_count": 12,
   "metadata": {},
   "outputs": [],
   "source": [
    "import numpy as np"
   ]
  },
  {
   "cell_type": "code",
   "execution_count": 15,
   "metadata": {},
   "outputs": [
    {
     "name": "stdout",
     "output_type": "stream",
     "text": [
      "[0 1]\n"
     ]
    }
   ],
   "source": [
    "similar_words = (np.array(cosine_similarity.detach().cpu()) > 0.85).nonzero()[0]\n",
    "print(similar_words)"
   ]
  },
  {
   "cell_type": "code",
   "execution_count": null,
   "metadata": {},
   "outputs": [],
   "source": []
  }
 ],
 "metadata": {
  "kernelspec": {
   "display_name": "ucd",
   "language": "python",
   "name": "python3"
  },
  "language_info": {
   "codemirror_mode": {
    "name": "ipython",
    "version": 3
   },
   "file_extension": ".py",
   "mimetype": "text/x-python",
   "name": "python",
   "nbconvert_exporter": "python",
   "pygments_lexer": "ipython3",
   "version": "3.11.0"
  }
 },
 "nbformat": 4,
 "nbformat_minor": 2
}
